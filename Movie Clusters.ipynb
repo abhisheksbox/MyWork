{
 "cells": [
  {
   "cell_type": "code",
   "execution_count": 32,
   "id": "7d70410d",
   "metadata": {},
   "outputs": [],
   "source": [
    "import warnings\n",
    "warnings.filterwarnings('ignore')"
   ]
  },
  {
   "cell_type": "code",
   "execution_count": 1,
   "id": "c59e1e42",
   "metadata": {},
   "outputs": [],
   "source": [
    "import pandas as pd\n",
    "import numpy as np\n",
    "from sklearn.preprocessing import StandardScaler\n",
    "import matplotlib.pyplot as plt\n",
    "import seaborn as sn"
   ]
  },
  {
   "cell_type": "code",
   "execution_count": 2,
   "id": "a1812aba",
   "metadata": {},
   "outputs": [],
   "source": [
    "movie_df = pd.read_csv (\"bollywood.csv\")"
   ]
  },
  {
   "cell_type": "code",
   "execution_count": 3,
   "id": "0ea1c5bc",
   "metadata": {},
   "outputs": [
    {
     "data": {
      "text/html": [
       "<div>\n",
       "<style scoped>\n",
       "    .dataframe tbody tr th:only-of-type {\n",
       "        vertical-align: middle;\n",
       "    }\n",
       "\n",
       "    .dataframe tbody tr th {\n",
       "        vertical-align: top;\n",
       "    }\n",
       "\n",
       "    .dataframe thead th {\n",
       "        text-align: right;\n",
       "    }\n",
       "</style>\n",
       "<table border=\"1\" class=\"dataframe\">\n",
       "  <thead>\n",
       "    <tr style=\"text-align: right;\">\n",
       "      <th></th>\n",
       "      <th>SlNo</th>\n",
       "      <th>Release Date</th>\n",
       "      <th>MovieName</th>\n",
       "      <th>ReleaseTime</th>\n",
       "      <th>Genre</th>\n",
       "      <th>Budget</th>\n",
       "      <th>BoxOfficeCollection</th>\n",
       "      <th>YoutubeViews</th>\n",
       "      <th>YoutubeLikes</th>\n",
       "      <th>YoutubeDislikes</th>\n",
       "    </tr>\n",
       "  </thead>\n",
       "  <tbody>\n",
       "    <tr>\n",
       "      <th>0</th>\n",
       "      <td>1</td>\n",
       "      <td>18-Apr-14</td>\n",
       "      <td>2 States</td>\n",
       "      <td>LW</td>\n",
       "      <td>Romance</td>\n",
       "      <td>36</td>\n",
       "      <td>104.00</td>\n",
       "      <td>8576361</td>\n",
       "      <td>26622</td>\n",
       "      <td>2527</td>\n",
       "    </tr>\n",
       "    <tr>\n",
       "      <th>1</th>\n",
       "      <td>2</td>\n",
       "      <td>4-Jan-13</td>\n",
       "      <td>Table No. 21</td>\n",
       "      <td>N</td>\n",
       "      <td>Thriller</td>\n",
       "      <td>10</td>\n",
       "      <td>12.00</td>\n",
       "      <td>1087320</td>\n",
       "      <td>1129</td>\n",
       "      <td>137</td>\n",
       "    </tr>\n",
       "    <tr>\n",
       "      <th>2</th>\n",
       "      <td>3</td>\n",
       "      <td>18-Jul-14</td>\n",
       "      <td>Amit Sahni Ki List</td>\n",
       "      <td>N</td>\n",
       "      <td>Comedy</td>\n",
       "      <td>10</td>\n",
       "      <td>4.00</td>\n",
       "      <td>572336</td>\n",
       "      <td>586</td>\n",
       "      <td>54</td>\n",
       "    </tr>\n",
       "    <tr>\n",
       "      <th>3</th>\n",
       "      <td>4</td>\n",
       "      <td>4-Jan-13</td>\n",
       "      <td>Rajdhani Express</td>\n",
       "      <td>N</td>\n",
       "      <td>Drama</td>\n",
       "      <td>7</td>\n",
       "      <td>0.35</td>\n",
       "      <td>42626</td>\n",
       "      <td>86</td>\n",
       "      <td>19</td>\n",
       "    </tr>\n",
       "    <tr>\n",
       "      <th>4</th>\n",
       "      <td>5</td>\n",
       "      <td>4-Jul-14</td>\n",
       "      <td>Bobby Jasoos</td>\n",
       "      <td>N</td>\n",
       "      <td>Comedy</td>\n",
       "      <td>18</td>\n",
       "      <td>10.80</td>\n",
       "      <td>3113427</td>\n",
       "      <td>4512</td>\n",
       "      <td>1224</td>\n",
       "    </tr>\n",
       "  </tbody>\n",
       "</table>\n",
       "</div>"
      ],
      "text/plain": [
       "   SlNo Release Date           MovieName ReleaseTime     Genre  Budget  \\\n",
       "0     1    18-Apr-14            2 States          LW   Romance      36   \n",
       "1     2     4-Jan-13        Table No. 21           N  Thriller      10   \n",
       "2     3    18-Jul-14  Amit Sahni Ki List           N    Comedy      10   \n",
       "3     4     4-Jan-13    Rajdhani Express           N     Drama       7   \n",
       "4     5     4-Jul-14        Bobby Jasoos           N    Comedy      18   \n",
       "\n",
       "   BoxOfficeCollection  YoutubeViews  YoutubeLikes  YoutubeDislikes  \n",
       "0               104.00       8576361         26622             2527  \n",
       "1                12.00       1087320          1129              137  \n",
       "2                 4.00        572336           586               54  \n",
       "3                 0.35         42626            86               19  \n",
       "4                10.80       3113427          4512             1224  "
      ]
     },
     "execution_count": 3,
     "metadata": {},
     "output_type": "execute_result"
    }
   ],
   "source": [
    "movie_df.head()"
   ]
  },
  {
   "cell_type": "code",
   "execution_count": 4,
   "id": "84e14409",
   "metadata": {},
   "outputs": [
    {
     "name": "stdout",
     "output_type": "stream",
     "text": [
      "['Romance', 'Thriller', 'Comedy', 'Drama', 'Comedy', 'Drama', 'Comedy', 'Comedy', 'Comedy', 'Drama', 'Action', 'Romance', 'Romance', 'Action', 'Comedy', 'Action', 'Thriller', 'Comedy', 'Comedy', 'Comedy', 'Thriller', 'Action', 'Action', 'Drama', 'Romance', 'Drama', 'Drama', 'Drama', 'Thriller', 'Drama', 'Thriller', 'Thriller', 'Romance', 'Drama', 'Drama', 'Action', 'Action', 'Romance', 'Thriller', 'Comedy', 'Drama', 'Action', 'Romance', 'Action', 'Thriller', 'Romance', 'Comedy', 'Comedy', 'Action', 'Drama', 'Romance', 'Thriller', 'Comedy', 'Thriller', 'Action', 'Drama', 'Drama', 'Comedy', 'Drama', 'Comedy', 'Comedy', 'Action', 'Thriller', 'Drama', 'Romance', 'Comedy', 'Romance', 'Romance', 'Thriller', 'Drama', 'Drama', 'Thriller', 'Comedy', 'Thriller', 'Drama', 'Comedy', 'Drama', 'Action', 'Action', 'Comedy', 'Romance', 'Drama', 'Romance', 'Romance', 'Comedy', 'Comedy', 'Drama', 'Comedy', 'Thriller', 'Drama', 'Romance', 'Action', 'Action', 'Thriller', 'Thriller', 'Comedy', 'Comedy', 'Romance', 'Thriller', 'Thriller', 'Action', 'Drama', 'Drama', 'Thriller', 'Drama', 'Romance', 'Romance', 'Action', 'Thriller', 'Romance', 'Romance', 'Comedy', 'Comedy', 'Thriller', 'Thriller', 'Comedy', 'Thriller', 'Thriller', 'Drama', 'Action', 'Drama', 'Thriller', 'Romance', 'Romance', 'Comedy', 'Comedy', 'Comedy', 'Drama', 'Drama', 'Comedy', 'Action', 'Romance', 'Comedy', 'Drama', 'Drama', 'Drama', 'Action', 'Thriller', 'Action', 'Drama', 'Thriller', 'Drama', 'Romance', 'Action', 'Comedy', 'Thriller', 'Comedy', 'Comedy', 'Action']\n"
     ]
    }
   ],
   "source": [
    "Genre_list = movie_df['Genre'].tolist()\n",
    "print (Genre_list)"
   ]
  },
  {
   "cell_type": "code",
   "execution_count": 5,
   "id": "45d7eccf",
   "metadata": {},
   "outputs": [
    {
     "data": {
      "text/plain": [
       "array(['Romance', 'Thriller', 'Comedy', 'Drama', 'Action'], dtype=object)"
      ]
     },
     "execution_count": 5,
     "metadata": {},
     "output_type": "execute_result"
    }
   ],
   "source": [
    "movie_df.Genre.unique()"
   ]
  },
  {
   "cell_type": "code",
   "execution_count": 6,
   "id": "2d14cab7",
   "metadata": {},
   "outputs": [
    {
     "data": {
      "text/plain": [
       "SlNo                   149\n",
       "Release Date           149\n",
       "MovieName              149\n",
       "ReleaseTime            149\n",
       "Genre                  149\n",
       "Budget                 149\n",
       "BoxOfficeCollection    149\n",
       "YoutubeViews           149\n",
       "YoutubeLikes           149\n",
       "YoutubeDislikes        149\n",
       "dtype: int64"
      ]
     },
     "execution_count": 6,
     "metadata": {},
     "output_type": "execute_result"
    }
   ],
   "source": [
    "movie_df.count()"
   ]
  },
  {
   "cell_type": "code",
   "execution_count": 7,
   "id": "5a568acb",
   "metadata": {},
   "outputs": [
    {
     "data": {
      "text/plain": [
       "array(['LW', 'N', 'HS', 'FS'], dtype=object)"
      ]
     },
     "execution_count": 7,
     "metadata": {},
     "output_type": "execute_result"
    }
   ],
   "source": [
    "movie_df.ReleaseTime.unique()"
   ]
  },
  {
   "cell_type": "code",
   "execution_count": 8,
   "id": "e520b48c",
   "metadata": {},
   "outputs": [
    {
     "data": {
      "text/plain": [
       "149"
      ]
     },
     "execution_count": 8,
     "metadata": {},
     "output_type": "execute_result"
    }
   ],
   "source": [
    "movie_df.MovieName.count()"
   ]
  },
  {
   "cell_type": "code",
   "execution_count": 9,
   "id": "fa175c32",
   "metadata": {},
   "outputs": [
    {
     "data": {
      "text/plain": [
       "0    LW\n",
       "1     N\n",
       "2     N\n",
       "3     N\n",
       "4     N\n",
       "5    HS\n",
       "6     N\n",
       "7     N\n",
       "8    LW\n",
       "Name: ReleaseTime, dtype: object"
      ]
     },
     "execution_count": 9,
     "metadata": {},
     "output_type": "execute_result"
    }
   ],
   "source": [
    "genre =  movie_df['Genre'].head(149)\n",
    "movie_name = movie_df['MovieName'].head(149)\n",
    "release_date = movie_df['Release Date'].head(149)\n",
    "release_time = movie_df['ReleaseTime'].head(149)\n",
    "budget = movie_df['Budget'].head(149)\n",
    "bo_collection = movie_df['BoxOfficeCollection'].head(149)\n",
    "yt_views = movie_df['YoutubeViews'].head(149)\n",
    "yt_likes = movie_df['YoutubeLikes'].head(149)\n",
    "yt_dislikes = movie_df['YoutubeDislikes'].head(149)\n",
    "release_time.head(9)"
   ]
  },
  {
   "cell_type": "code",
   "execution_count": 10,
   "id": "3f6f410c",
   "metadata": {},
   "outputs": [
    {
     "data": {
      "image/png": "[encoded data removed]",
      "text/plain": [
       "<Figure size 1440x360 with 1 Axes>"
      ]
     },
     "metadata": {
      "needs_background": "light"
     },
     "output_type": "display_data"
    }
   ],
   "source": [
    "fig = plt.figure(figsize = (20,5))\n",
    "plt.bar (genre, budget)\n",
    "plt.show()"
   ]
  },
  {
   "cell_type": "code",
   "execution_count": 11,
   "id": "46da0fa6",
   "metadata": {},
   "outputs": [
    {
     "data": {
      "image/png": "[encoded data removed]",
      "text/plain": [
       "<Figure size 1440x360 with 1 Axes>"
      ]
     },
     "metadata": {
      "needs_background": "light"
     },
     "output_type": "display_data"
    }
   ],
   "source": [
    "fig = plt.figure(figsize = (20,5))\n",
    "plt.scatter(budget,bo_collection)\n",
    "plt.show()"
   ]
  },
  {
   "cell_type": "code",
   "execution_count": 12,
   "id": "bd2bfe08",
   "metadata": {},
   "outputs": [
    {
     "data": {
      "text/plain": [
       "<AxesSubplot:xlabel='Budget', ylabel='BoxOfficeCollection'>"
      ]
     },
     "execution_count": 12,
     "metadata": {},
     "output_type": "execute_result"
    },
    {
     "data": {
      "image/png": "[encoded data removed]",
      "text/plain": [
       "<Figure size 2880x1440 with 1 Axes>"
      ]
     },
     "metadata": {
      "needs_background": "light"
     },
     "output_type": "display_data"
    }
   ],
   "source": [
    "#box_data = [genre, movie_name, release_date, release_time, budget, bo_collection, yt_views, yt_likes, yt_dislikes]\n",
    "fig = plt.figure(figsize = (40,20))\n",
    "sn.boxplot (data=movie_df, x= \"Budget\", y=\"BoxOfficeCollection\")"
   ]
  },
  {
   "cell_type": "code",
   "execution_count": 13,
   "id": "5f74d3d5",
   "metadata": {},
   "outputs": [
    {
     "data": {
      "image/png": "[encoded data removed]",
      "text/plain": [
       "<Figure size 1440x360 with 1 Axes>"
      ]
     },
     "metadata": {
      "needs_background": "light"
     },
     "output_type": "display_data"
    }
   ],
   "source": [
    "fig = plt.figure(figsize = (20,5))\n",
    "plt.scatter(yt_views,yt_likes)\n",
    "plt.show()"
   ]
  },
  {
   "cell_type": "code",
   "execution_count": 14,
   "id": "32260237",
   "metadata": {},
   "outputs": [
    {
     "data": {
      "text/html": [
       "<div>\n",
       "<style scoped>\n",
       "    .dataframe tbody tr th:only-of-type {\n",
       "        vertical-align: middle;\n",
       "    }\n",
       "\n",
       "    .dataframe tbody tr th {\n",
       "        vertical-align: top;\n",
       "    }\n",
       "\n",
       "    .dataframe thead th {\n",
       "        text-align: right;\n",
       "    }\n",
       "</style>\n",
       "<table border=\"1\" class=\"dataframe\">\n",
       "  <thead>\n",
       "    <tr style=\"text-align: right;\">\n",
       "      <th></th>\n",
       "      <th>SlNo</th>\n",
       "      <th>Release Date</th>\n",
       "      <th>MovieName</th>\n",
       "      <th>ReleaseTime</th>\n",
       "      <th>Genre</th>\n",
       "      <th>Budget</th>\n",
       "      <th>BoxOfficeCollection</th>\n",
       "      <th>YoutubeViews</th>\n",
       "      <th>YoutubeLikes</th>\n",
       "      <th>YoutubeDislikes</th>\n",
       "    </tr>\n",
       "  </thead>\n",
       "  <tbody>\n",
       "    <tr>\n",
       "      <th>0</th>\n",
       "      <td>1</td>\n",
       "      <td>18-Apr-14</td>\n",
       "      <td>2 States</td>\n",
       "      <td>LW</td>\n",
       "      <td>Romance</td>\n",
       "      <td>36</td>\n",
       "      <td>104.00</td>\n",
       "      <td>8576361</td>\n",
       "      <td>26622</td>\n",
       "      <td>2527</td>\n",
       "    </tr>\n",
       "    <tr>\n",
       "      <th>1</th>\n",
       "      <td>2</td>\n",
       "      <td>4-Jan-13</td>\n",
       "      <td>Table No. 21</td>\n",
       "      <td>N</td>\n",
       "      <td>Thriller</td>\n",
       "      <td>10</td>\n",
       "      <td>12.00</td>\n",
       "      <td>1087320</td>\n",
       "      <td>1129</td>\n",
       "      <td>137</td>\n",
       "    </tr>\n",
       "    <tr>\n",
       "      <th>2</th>\n",
       "      <td>3</td>\n",
       "      <td>18-Jul-14</td>\n",
       "      <td>Amit Sahni Ki List</td>\n",
       "      <td>N</td>\n",
       "      <td>Comedy</td>\n",
       "      <td>10</td>\n",
       "      <td>4.00</td>\n",
       "      <td>572336</td>\n",
       "      <td>586</td>\n",
       "      <td>54</td>\n",
       "    </tr>\n",
       "    <tr>\n",
       "      <th>3</th>\n",
       "      <td>4</td>\n",
       "      <td>4-Jan-13</td>\n",
       "      <td>Rajdhani Express</td>\n",
       "      <td>N</td>\n",
       "      <td>Drama</td>\n",
       "      <td>7</td>\n",
       "      <td>0.35</td>\n",
       "      <td>42626</td>\n",
       "      <td>86</td>\n",
       "      <td>19</td>\n",
       "    </tr>\n",
       "    <tr>\n",
       "      <th>4</th>\n",
       "      <td>5</td>\n",
       "      <td>4-Jul-14</td>\n",
       "      <td>Bobby Jasoos</td>\n",
       "      <td>N</td>\n",
       "      <td>Comedy</td>\n",
       "      <td>18</td>\n",
       "      <td>10.80</td>\n",
       "      <td>3113427</td>\n",
       "      <td>4512</td>\n",
       "      <td>1224</td>\n",
       "    </tr>\n",
       "  </tbody>\n",
       "</table>\n",
       "</div>"
      ],
      "text/plain": [
       "   SlNo Release Date           MovieName ReleaseTime     Genre  Budget  \\\n",
       "0     1    18-Apr-14            2 States          LW   Romance      36   \n",
       "1     2     4-Jan-13        Table No. 21           N  Thriller      10   \n",
       "2     3    18-Jul-14  Amit Sahni Ki List           N    Comedy      10   \n",
       "3     4     4-Jan-13    Rajdhani Express           N     Drama       7   \n",
       "4     5     4-Jul-14        Bobby Jasoos           N    Comedy      18   \n",
       "\n",
       "   BoxOfficeCollection  YoutubeViews  YoutubeLikes  YoutubeDislikes  \n",
       "0               104.00       8576361         26622             2527  \n",
       "1                12.00       1087320          1129              137  \n",
       "2                 4.00        572336           586               54  \n",
       "3                 0.35         42626            86               19  \n",
       "4                10.80       3113427          4512             1224  "
      ]
     },
     "execution_count": 14,
     "metadata": {},
     "output_type": "execute_result"
    }
   ],
   "source": [
    "movie_df.head()"
   ]
  },
  {
   "cell_type": "code",
   "execution_count": 19,
   "id": "7928058c",
   "metadata": {},
   "outputs": [
    {
     "data": {
      "text/plain": [
       "array([[ 0.23298981,  0.51321238,  1.49985682,  1.47533831,  0.71443593],\n",
       "       [-0.6908613 , -0.46367259, -0.64438591, -0.53116352, -0.57992898],\n",
       "       [-0.6908613 , -0.54861911, -0.79183479, -0.57390194, -0.62487973],\n",
       "       [-0.79745951, -0.58737596, -0.94349998, -0.61325592, -0.64383487],\n",
       "       [-0.40659942, -0.47641457, -0.06427623, -0.26489452,  0.00876334]])"
      ]
     },
     "execution_count": 19,
     "metadata": {},
     "output_type": "execute_result"
    }
   ],
   "source": [
    "scaler = StandardScaler()\n",
    "scaled_movie_df = scaler.fit_transform(movie_df[[\"Budget\", \"BoxOfficeCollection\", \"YoutubeViews\", \"YoutubeLikes\", \"YoutubeDislikes\"]])\n",
    "scaled_movie_df [0:5]"
   ]
  },
  {
   "cell_type": "code",
   "execution_count": 18,
   "id": "aec8270a",
   "metadata": {},
   "outputs": [],
   "source": [
    "from sklearn.cluster import KMeans"
   ]
  },
  {
   "cell_type": "code",
   "execution_count": 26,
   "id": "04f3e631",
   "metadata": {},
   "outputs": [
    {
     "data": {
      "text/html": [
       "<div>\n",
       "<style scoped>\n",
       "    .dataframe tbody tr th:only-of-type {\n",
       "        vertical-align: middle;\n",
       "    }\n",
       "\n",
       "    .dataframe tbody tr th {\n",
       "        vertical-align: top;\n",
       "    }\n",
       "\n",
       "    .dataframe thead th {\n",
       "        text-align: right;\n",
       "    }\n",
       "</style>\n",
       "<table border=\"1\" class=\"dataframe\">\n",
       "  <thead>\n",
       "    <tr style=\"text-align: right;\">\n",
       "      <th></th>\n",
       "      <th>SlNo</th>\n",
       "      <th>Release Date</th>\n",
       "      <th>MovieName</th>\n",
       "      <th>ReleaseTime</th>\n",
       "      <th>Genre</th>\n",
       "      <th>Budget</th>\n",
       "      <th>BoxOfficeCollection</th>\n",
       "      <th>YoutubeViews</th>\n",
       "      <th>YoutubeLikes</th>\n",
       "      <th>YoutubeDislikes</th>\n",
       "      <th>cluster_id</th>\n",
       "    </tr>\n",
       "  </thead>\n",
       "  <tbody>\n",
       "    <tr>\n",
       "      <th>0</th>\n",
       "      <td>1</td>\n",
       "      <td>18-Apr-14</td>\n",
       "      <td>2 States</td>\n",
       "      <td>LW</td>\n",
       "      <td>Romance</td>\n",
       "      <td>36</td>\n",
       "      <td>104.00</td>\n",
       "      <td>8576361</td>\n",
       "      <td>26622</td>\n",
       "      <td>2527</td>\n",
       "      <td>2</td>\n",
       "    </tr>\n",
       "    <tr>\n",
       "      <th>1</th>\n",
       "      <td>2</td>\n",
       "      <td>4-Jan-13</td>\n",
       "      <td>Table No. 21</td>\n",
       "      <td>N</td>\n",
       "      <td>Thriller</td>\n",
       "      <td>10</td>\n",
       "      <td>12.00</td>\n",
       "      <td>1087320</td>\n",
       "      <td>1129</td>\n",
       "      <td>137</td>\n",
       "      <td>0</td>\n",
       "    </tr>\n",
       "    <tr>\n",
       "      <th>2</th>\n",
       "      <td>3</td>\n",
       "      <td>18-Jul-14</td>\n",
       "      <td>Amit Sahni Ki List</td>\n",
       "      <td>N</td>\n",
       "      <td>Comedy</td>\n",
       "      <td>10</td>\n",
       "      <td>4.00</td>\n",
       "      <td>572336</td>\n",
       "      <td>586</td>\n",
       "      <td>54</td>\n",
       "      <td>0</td>\n",
       "    </tr>\n",
       "    <tr>\n",
       "      <th>3</th>\n",
       "      <td>4</td>\n",
       "      <td>4-Jan-13</td>\n",
       "      <td>Rajdhani Express</td>\n",
       "      <td>N</td>\n",
       "      <td>Drama</td>\n",
       "      <td>7</td>\n",
       "      <td>0.35</td>\n",
       "      <td>42626</td>\n",
       "      <td>86</td>\n",
       "      <td>19</td>\n",
       "      <td>0</td>\n",
       "    </tr>\n",
       "    <tr>\n",
       "      <th>4</th>\n",
       "      <td>5</td>\n",
       "      <td>4-Jul-14</td>\n",
       "      <td>Bobby Jasoos</td>\n",
       "      <td>N</td>\n",
       "      <td>Comedy</td>\n",
       "      <td>18</td>\n",
       "      <td>10.80</td>\n",
       "      <td>3113427</td>\n",
       "      <td>4512</td>\n",
       "      <td>1224</td>\n",
       "      <td>0</td>\n",
       "    </tr>\n",
       "    <tr>\n",
       "      <th>5</th>\n",
       "      <td>6</td>\n",
       "      <td>30-May-14</td>\n",
       "      <td>Citylights</td>\n",
       "      <td>HS</td>\n",
       "      <td>Drama</td>\n",
       "      <td>7</td>\n",
       "      <td>35.00</td>\n",
       "      <td>1076591</td>\n",
       "      <td>1806</td>\n",
       "      <td>84</td>\n",
       "      <td>0</td>\n",
       "    </tr>\n",
       "    <tr>\n",
       "      <th>6</th>\n",
       "      <td>7</td>\n",
       "      <td>19-Sep-14</td>\n",
       "      <td>Daawat-E-Ishq</td>\n",
       "      <td>N</td>\n",
       "      <td>Comedy</td>\n",
       "      <td>30</td>\n",
       "      <td>24.60</td>\n",
       "      <td>3905050</td>\n",
       "      <td>8315</td>\n",
       "      <td>1373</td>\n",
       "      <td>0</td>\n",
       "    </tr>\n",
       "    <tr>\n",
       "      <th>7</th>\n",
       "      <td>8</td>\n",
       "      <td>11-Jan-13</td>\n",
       "      <td>Matru Ki Bijlee Ka Mandola</td>\n",
       "      <td>N</td>\n",
       "      <td>Comedy</td>\n",
       "      <td>33</td>\n",
       "      <td>40.00</td>\n",
       "      <td>2435283</td>\n",
       "      <td>4326</td>\n",
       "      <td>647</td>\n",
       "      <td>0</td>\n",
       "    </tr>\n",
       "    <tr>\n",
       "      <th>8</th>\n",
       "      <td>9</td>\n",
       "      <td>10-Jan-14</td>\n",
       "      <td>Dedh Ishqiya</td>\n",
       "      <td>LW</td>\n",
       "      <td>Comedy</td>\n",
       "      <td>31</td>\n",
       "      <td>27.00</td>\n",
       "      <td>2333067</td>\n",
       "      <td>2436</td>\n",
       "      <td>591</td>\n",
       "      <td>0</td>\n",
       "    </tr>\n",
       "    <tr>\n",
       "      <th>9</th>\n",
       "      <td>10</td>\n",
       "      <td>11-Jan-13</td>\n",
       "      <td>Gangoobai</td>\n",
       "      <td>N</td>\n",
       "      <td>Drama</td>\n",
       "      <td>2</td>\n",
       "      <td>0.01</td>\n",
       "      <td>4354</td>\n",
       "      <td>1</td>\n",
       "      <td>1</td>\n",
       "      <td>0</td>\n",
       "    </tr>\n",
       "  </tbody>\n",
       "</table>\n",
       "</div>"
      ],
      "text/plain": [
       "   SlNo Release Date                   MovieName ReleaseTime     Genre  \\\n",
       "0     1    18-Apr-14                    2 States          LW   Romance   \n",
       "1     2     4-Jan-13                Table No. 21           N  Thriller   \n",
       "2     3    18-Jul-14          Amit Sahni Ki List           N    Comedy   \n",
       "3     4     4-Jan-13            Rajdhani Express           N     Drama   \n",
       "4     5     4-Jul-14                Bobby Jasoos           N    Comedy   \n",
       "5     6    30-May-14                  Citylights          HS     Drama   \n",
       "6     7    19-Sep-14               Daawat-E-Ishq           N    Comedy   \n",
       "7     8    11-Jan-13  Matru Ki Bijlee Ka Mandola           N    Comedy   \n",
       "8     9    10-Jan-14                Dedh Ishqiya          LW    Comedy   \n",
       "9    10    11-Jan-13                   Gangoobai           N     Drama   \n",
       "\n",
       "   Budget  BoxOfficeCollection  YoutubeViews  YoutubeLikes  YoutubeDislikes  \\\n",
       "0      36               104.00       8576361         26622             2527   \n",
       "1      10                12.00       1087320          1129              137   \n",
       "2      10                 4.00        572336           586               54   \n",
       "3       7                 0.35         42626            86               19   \n",
       "4      18                10.80       3113427          4512             1224   \n",
       "5       7                35.00       1076591          1806               84   \n",
       "6      30                24.60       3905050          8315             1373   \n",
       "7      33                40.00       2435283          4326              647   \n",
       "8      31                27.00       2333067          2436              591   \n",
       "9       2                 0.01          4354             1                1   \n",
       "\n",
       "   cluster_id  \n",
       "0           2  \n",
       "1           0  \n",
       "2           0  \n",
       "3           0  \n",
       "4           0  \n",
       "5           0  \n",
       "6           0  \n",
       "7           0  \n",
       "8           0  \n",
       "9           0  "
      ]
     },
     "execution_count": 26,
     "metadata": {},
     "output_type": "execute_result"
    }
   ],
   "source": [
    "first_cluster = KMeans(3, random_state=42)\n",
    "first_cluster.fit(scaled_movie_df)\n",
    "movie_df[\"cluster_id\"] = first_cluster.labels_\n",
    "movie_df.head(10)"
   ]
  },
  {
   "cell_type": "code",
   "execution_count": 31,
   "id": "6dfacf46",
   "metadata": {},
   "outputs": [],
   "source": [
    "#\"Release Date\",\"MovieName\",\"ReleaseTime\",\"Genre\",\"Budget\",\"BoxOfficeCollection\",\"YoutubeViews\",\"YoutubeLikes\",\"YoutubeDislikes\""
   ]
  },
  {
   "cell_type": "code",
   "execution_count": 43,
   "id": "3037e302",
   "metadata": {},
   "outputs": [
    {
     "data": {
      "text/plain": [
       "<seaborn.axisgrid.FacetGrid at 0x222301683a0>"
      ]
     },
     "execution_count": 43,
     "metadata": {},
     "output_type": "execute_result"
    },
    {
     "data": {
      "image/png": "[encoded data removed]",
      "text/plain": [
       "<Figure size 344.375x288 with 1 Axes>"
      ]
     },
     "metadata": {
      "needs_background": "light"
     },
     "output_type": "display_data"
    }
   ],
   "source": [
    "sn.lmplot(\"BoxOfficeCollection\",\"YoutubeViews\",data = movie_df, hue = \"cluster_id\", fit_reg = False, size = 4)"
   ]
  },
  {
   "cell_type": "code",
   "execution_count": 46,
   "id": "e280802d",
   "metadata": {},
   "outputs": [
    {
     "data": {
      "text/plain": [
       "<seaborn.axisgrid.FacetGrid at 0x22230192250>"
      ]
     },
     "execution_count": 46,
     "metadata": {},
     "output_type": "execute_result"
    },
    {
     "data": {
      "image/png": "[encoded data removed]",
      "text/plain": [
       "<Figure size 344.375x288 with 1 Axes>"
      ]
     },
     "metadata": {
      "needs_background": "light"
     },
     "output_type": "display_data"
    }
   ],
   "source": [
    "sn.lmplot(\"Budget\",\"YoutubeViews\",data = movie_df, hue = \"cluster_id\", fit_reg = False, size = 4)"
   ]
  },
  {
   "cell_type": "code",
   "execution_count": 47,
   "id": "51e617f9",
   "metadata": {},
   "outputs": [
    {
     "data": {
      "text/plain": [
       "<seaborn.axisgrid.FacetGrid at 0x222308bb730>"
      ]
     },
     "execution_count": 47,
     "metadata": {},
     "output_type": "execute_result"
    },
    {
     "data": {
      "image/png": "[encoded data removed]",
      "text/plain": [
       "<Figure size 344.375x288 with 1 Axes>"
      ]
     },
     "metadata": {
      "needs_background": "light"
     },
     "output_type": "display_data"
    }
   ],
   "source": [
    "sn.lmplot(\"Budget\",\"BoxOfficeCollection\",data = movie_df, hue = \"cluster_id\", fit_reg = False, size = 4)"
   ]
  },
  {
   "cell_type": "code",
   "execution_count": 48,
   "id": "fdada115",
   "metadata": {},
   "outputs": [
    {
     "data": {
      "text/plain": [
       "<seaborn.axisgrid.FacetGrid at 0x222308418e0>"
      ]
     },
     "execution_count": 48,
     "metadata": {},
     "output_type": "execute_result"
    },
    {
     "data": {
      "image/png": "[encoded data removed]",
      "text/plain": [
       "<Figure size 344.375x288 with 1 Axes>"
      ]
     },
     "metadata": {
      "needs_background": "light"
     },
     "output_type": "display_data"
    }
   ],
   "source": [
    "sn.lmplot(\"YoutubeViews\", \"YoutubeLikes\",data = movie_df, hue = \"cluster_id\", fit_reg = False, size = 4)"
   ]
  },
  {
   "cell_type": "code",
   "execution_count": null,
   "id": "a2547923",
   "metadata": {},
   "outputs": [],
   "source": []
  }
 ],
 "metadata": {
  "kernelspec": {
   "display_name": "Python 3 (ipykernel)",
   "language": "python",
   "name": "python3"
  },
  "language_info": {
   "codemirror_mode": {
    "name": "ipython",
    "version": 3
   },
   "file_extension": ".py",
   "mimetype": "text/x-python",
   "name": "python",
   "nbconvert_exporter": "python",
   "pygments_lexer": "ipython3",
   "version": "3.9.12"
  }
 },
 "nbformat": 4,
 "nbformat_minor": 5
}
