{
 "cells": [
  {
   "cell_type": "code",
   "execution_count": 1,
   "id": "20821245-143a-48fd-9604-d64dcf888796",
   "metadata": {},
   "outputs": [],
   "source": [
    "import warnings\n",
    "warnings.filterwarnings(\"ignore\")"
   ]
  },
  {
   "cell_type": "code",
   "execution_count": 2,
   "id": "d4da6f29-259c-458b-aa9b-03eeb6f2f2d9",
   "metadata": {},
   "outputs": [],
   "source": [
    "import pandas as pd\n",
    "from transformers import MBartForConditionalGeneration, MBart50TokenizerFast\n",
    "from sacrebleu import corpus_bleu"
   ]
  },
  {
   "cell_type": "code",
   "execution_count": 3,
   "id": "5c98eab5-9f1e-4763-837e-a7dcc6681255",
   "metadata": {},
   "outputs": [],
   "source": [
    "data = pd.read_csv('en-hi.csv')"
   ]
  },
  {
   "cell_type": "code",
   "execution_count": 4,
   "id": "2d305428-bde4-463c-bdf1-275ce9a6ca50",
   "metadata": {},
   "outputs": [
    {
     "data": {
      "text/plain": [
       "(10125706, 2)"
      ]
     },
     "execution_count": 4,
     "metadata": {},
     "output_type": "execute_result"
    }
   ],
   "source": [
    "data.shape"
   ]
  },
  {
   "cell_type": "code",
   "execution_count": 5,
   "id": "2f49d62d-2a61-4ac5-8215-0ca88adebc38",
   "metadata": {},
   "outputs": [],
   "source": [
    "data_1k = data.loc[:999]"
   ]
  },
  {
   "cell_type": "code",
   "execution_count": 6,
   "id": "4bd34829-1ec1-47f5-9ac5-2e98be71bb2c",
   "metadata": {},
   "outputs": [
    {
     "data": {
      "text/html": [
       "<div>\n",
       "<style scoped>\n",
       "    .dataframe tbody tr th:only-of-type {\n",
       "        vertical-align: middle;\n",
       "    }\n",
       "\n",
       "    .dataframe tbody tr th {\n",
       "        vertical-align: top;\n",
       "    }\n",
       "\n",
       "    .dataframe thead th {\n",
       "        text-align: right;\n",
       "    }\n",
       "</style>\n",
       "<table border=\"1\" class=\"dataframe\">\n",
       "  <thead>\n",
       "    <tr style=\"text-align: right;\">\n",
       "      <th></th>\n",
       "      <th>English</th>\n",
       "      <th>Hindi</th>\n",
       "    </tr>\n",
       "  </thead>\n",
       "  <tbody>\n",
       "    <tr>\n",
       "      <th>0</th>\n",
       "      <td>However, Paes, who was partnering Australia's ...</td>\n",
       "      <td>आस्ट्रेलिया के पाल हेनली के साथ जोड़ी बनाने वाल...</td>\n",
       "    </tr>\n",
       "    <tr>\n",
       "      <th>1</th>\n",
       "      <td>Whosoever desires the reward of the world, wit...</td>\n",
       "      <td>और जो शख्स (अपने आमाल का) बदला दुनिया ही में च...</td>\n",
       "    </tr>\n",
       "    <tr>\n",
       "      <th>2</th>\n",
       "      <td>The value of insects in the biosphere is enorm...</td>\n",
       "      <td>जैव-मंडल में कीड़ों का मूल्य बहुत है, क्योंकि ...</td>\n",
       "    </tr>\n",
       "    <tr>\n",
       "      <th>3</th>\n",
       "      <td>Mithali To Anchor Indian Team Against Australi...</td>\n",
       "      <td>आस्ट्रेलिया के खिलाफ वनडे टीम की कमान मिताली को</td>\n",
       "    </tr>\n",
       "    <tr>\n",
       "      <th>4</th>\n",
       "      <td>After the assent of the Honble President on 8t...</td>\n",
       "      <td>8 सितम्‍बर, 2016 को माननीय राष्‍ट्रपति की स्‍व...</td>\n",
       "    </tr>\n",
       "  </tbody>\n",
       "</table>\n",
       "</div>"
      ],
      "text/plain": [
       "                                             English  \\\n",
       "0  However, Paes, who was partnering Australia's ...   \n",
       "1  Whosoever desires the reward of the world, wit...   \n",
       "2  The value of insects in the biosphere is enorm...   \n",
       "3  Mithali To Anchor Indian Team Against Australi...   \n",
       "4  After the assent of the Honble President on 8t...   \n",
       "\n",
       "                                               Hindi  \n",
       "0  आस्ट्रेलिया के पाल हेनली के साथ जोड़ी बनाने वाल...  \n",
       "1  और जो शख्स (अपने आमाल का) बदला दुनिया ही में च...  \n",
       "2  जैव-मंडल में कीड़ों का मूल्य बहुत है, क्योंकि ...  \n",
       "3    आस्ट्रेलिया के खिलाफ वनडे टीम की कमान मिताली को  \n",
       "4  8 सितम्‍बर, 2016 को माननीय राष्‍ट्रपति की स्‍व...  "
      ]
     },
     "execution_count": 6,
     "metadata": {},
     "output_type": "execute_result"
    }
   ],
   "source": [
    "data_1k.head()"
   ]
  },
  {
   "cell_type": "code",
   "execution_count": 7,
   "id": "1253598e-1ef2-4d5d-b7dd-4e1f98424cb0",
   "metadata": {},
   "outputs": [
    {
     "data": {
      "text/plain": [
       "(1000, 2)"
      ]
     },
     "execution_count": 7,
     "metadata": {},
     "output_type": "execute_result"
    }
   ],
   "source": [
    "data_1k.shape"
   ]
  },
  {
   "cell_type": "code",
   "execution_count": 8,
   "id": "ba4433b7-b2ce-47ad-8d58-eca283502128",
   "metadata": {},
   "outputs": [],
   "source": [
    "# Initialize the translation model and tokenizer\n",
    "model = MBartForConditionalGeneration.from_pretrained(\"facebook/mbart-large-50-one-to-many-mmt\")\n",
    "tokenizer = MBart50TokenizerFast.from_pretrained(\"facebook/mbart-large-50-one-to-many-mmt\", src_lang=\"en_XX\")"
   ]
  },
  {
   "cell_type": "code",
   "execution_count": 9,
   "id": "6540d319-9461-401b-892e-240347999216",
   "metadata": {},
   "outputs": [],
   "source": [
    "# Create an empty list to store translations\n",
    "translations = []\n",
    "\n",
    "# Iterate through each row in the DataFrame\n",
    "for index, row in data_1k.iterrows():\n",
    "    # Get the English statement from the DataFrame column\n",
    "    english_statement = row['English']  \n",
    "    # Convert the English statement to tensors\n",
    "    model_inputs = tokenizer(english_statement, return_tensors=\"pt\", padding=True, truncation=True)\n",
    "    # Translate from English to Hindi\n",
    "    generated_tokens = model.generate(\n",
    "        **model_inputs,\n",
    "        forced_bos_token_id=tokenizer.lang_code_to_id[\"hi_IN\"]\n",
    "    )\n",
    "\n",
    "    # Decode the generated tokens and append to the translations list\n",
    "    translation = tokenizer.batch_decode(generated_tokens, skip_special_tokens=True)[0]\n",
    "    translations.append(translation)"
   ]
  },
  {
   "cell_type": "code",
   "execution_count": 10,
   "id": "370251e5-f47c-4c71-935d-509fdc9d038b",
   "metadata": {},
   "outputs": [],
   "source": [
    "# Add the translations to a new column in the DataFrame\n",
    "data_1k['Hindi_Translation'] = translations"
   ]
  },
  {
   "cell_type": "code",
   "execution_count": 11,
   "id": "9425fb6f-7479-4392-abb6-56aa1ba2aead",
   "metadata": {},
   "outputs": [
    {
     "data": {
      "text/plain": [
       "(1000, 3)"
      ]
     },
     "execution_count": 11,
     "metadata": {},
     "output_type": "execute_result"
    }
   ],
   "source": [
    "data_1k.shape"
   ]
  },
  {
   "cell_type": "code",
   "execution_count": 12,
   "id": "cf0e43b9-4f3e-4a8c-83eb-d1b914809a05",
   "metadata": {},
   "outputs": [
    {
     "data": {
      "text/html": [
       "<div>\n",
       "<style scoped>\n",
       "    .dataframe tbody tr th:only-of-type {\n",
       "        vertical-align: middle;\n",
       "    }\n",
       "\n",
       "    .dataframe tbody tr th {\n",
       "        vertical-align: top;\n",
       "    }\n",
       "\n",
       "    .dataframe thead th {\n",
       "        text-align: right;\n",
       "    }\n",
       "</style>\n",
       "<table border=\"1\" class=\"dataframe\">\n",
       "  <thead>\n",
       "    <tr style=\"text-align: right;\">\n",
       "      <th></th>\n",
       "      <th>English</th>\n",
       "      <th>Hindi</th>\n",
       "      <th>Hindi_Translation</th>\n",
       "    </tr>\n",
       "  </thead>\n",
       "  <tbody>\n",
       "    <tr>\n",
       "      <th>0</th>\n",
       "      <td>However, Paes, who was partnering Australia's ...</td>\n",
       "      <td>आस्ट्रेलिया के पाल हेनली के साथ जोड़ी बनाने वाल...</td>\n",
       "      <td>हालांकि पेस, जो ऑस्ट्रेलिया के पॉल हनले के साथ...</td>\n",
       "    </tr>\n",
       "    <tr>\n",
       "      <th>1</th>\n",
       "      <td>Whosoever desires the reward of the world, wit...</td>\n",
       "      <td>और जो शख्स (अपने आमाल का) बदला दुनिया ही में च...</td>\n",
       "      <td>जो कोई दुनिया का बदला चाहता है, तो अल्लाह के प...</td>\n",
       "    </tr>\n",
       "    <tr>\n",
       "      <th>2</th>\n",
       "      <td>The value of insects in the biosphere is enorm...</td>\n",
       "      <td>जैव-मंडल में कीड़ों का मूल्य बहुत है, क्योंकि ...</td>\n",
       "      <td>जीवमंडल में कीटों का मूल्य बहुत बड़ा है क्योंक...</td>\n",
       "    </tr>\n",
       "    <tr>\n",
       "      <th>3</th>\n",
       "      <td>Mithali To Anchor Indian Team Against Australi...</td>\n",
       "      <td>आस्ट्रेलिया के खिलाफ वनडे टीम की कमान मिताली को</td>\n",
       "      <td>ओडीआई में मिताली ऑस्ट्रेलिया के खिलाफ भारतीय ट...</td>\n",
       "    </tr>\n",
       "    <tr>\n",
       "      <th>4</th>\n",
       "      <td>After the assent of the Honble President on 8t...</td>\n",
       "      <td>8 सितम्‍बर, 2016 को माननीय राष्‍ट्रपति की स्‍व...</td>\n",
       "      <td>8 सितंबर, 2016 को माननीय राष्ट्रपति की अनुमति ...</td>\n",
       "    </tr>\n",
       "  </tbody>\n",
       "</table>\n",
       "</div>"
      ],
      "text/plain": [
       "                                             English  \\\n",
       "0  However, Paes, who was partnering Australia's ...   \n",
       "1  Whosoever desires the reward of the world, wit...   \n",
       "2  The value of insects in the biosphere is enorm...   \n",
       "3  Mithali To Anchor Indian Team Against Australi...   \n",
       "4  After the assent of the Honble President on 8t...   \n",
       "\n",
       "                                               Hindi  \\\n",
       "0  आस्ट्रेलिया के पाल हेनली के साथ जोड़ी बनाने वाल...   \n",
       "1  और जो शख्स (अपने आमाल का) बदला दुनिया ही में च...   \n",
       "2  जैव-मंडल में कीड़ों का मूल्य बहुत है, क्योंकि ...   \n",
       "3    आस्ट्रेलिया के खिलाफ वनडे टीम की कमान मिताली को   \n",
       "4  8 सितम्‍बर, 2016 को माननीय राष्‍ट्रपति की स्‍व...   \n",
       "\n",
       "                                   Hindi_Translation  \n",
       "0  हालांकि पेस, जो ऑस्ट्रेलिया के पॉल हनले के साथ...  \n",
       "1  जो कोई दुनिया का बदला चाहता है, तो अल्लाह के प...  \n",
       "2  जीवमंडल में कीटों का मूल्य बहुत बड़ा है क्योंक...  \n",
       "3  ओडीआई में मिताली ऑस्ट्रेलिया के खिलाफ भारतीय ट...  \n",
       "4  8 सितंबर, 2016 को माननीय राष्ट्रपति की अनुमति ...  "
      ]
     },
     "execution_count": 12,
     "metadata": {},
     "output_type": "execute_result"
    }
   ],
   "source": [
    "data_1k.head()"
   ]
  },
  {
   "cell_type": "code",
   "execution_count": 13,
   "id": "ef69b305-facd-45dd-8979-7714f61e30ac",
   "metadata": {},
   "outputs": [
    {
     "name": "stdout",
     "output_type": "stream",
     "text": [
      "BLEU Score: 16.628108133043217\n"
     ]
    }
   ],
   "source": [
    "references = data_1k['Hindi'].tolist()\n",
    "hypotheses = data_1k['Hindi_Translation'].tolist()\n",
    "\n",
    "# Compute BLEU score\n",
    "bleu = corpus_bleu(hypotheses, [references])\n",
    "print(f'BLEU Score: {bleu.score}')"
   ]
  },
  {
   "cell_type": "code",
   "execution_count": 14,
   "id": "70025ffa-855a-412e-b2e0-e0e16fea4983",
   "metadata": {},
   "outputs": [],
   "source": [
    "data_1k_2k = data.iloc[1000:2000]"
   ]
  },
  {
   "cell_type": "code",
   "execution_count": 15,
   "id": "51d6c3e9-e603-446f-97dd-6aed47a3590e",
   "metadata": {},
   "outputs": [
    {
     "data": {
      "text/plain": [
       "(1000, 2)"
      ]
     },
     "execution_count": 15,
     "metadata": {},
     "output_type": "execute_result"
    }
   ],
   "source": [
    "data_1k_2k.shape"
   ]
  },
  {
   "cell_type": "code",
   "execution_count": 16,
   "id": "1283aedb-40f7-4728-bb27-fa3c32fb696c",
   "metadata": {},
   "outputs": [
    {
     "data": {
      "text/html": [
       "<div>\n",
       "<style scoped>\n",
       "    .dataframe tbody tr th:only-of-type {\n",
       "        vertical-align: middle;\n",
       "    }\n",
       "\n",
       "    .dataframe tbody tr th {\n",
       "        vertical-align: top;\n",
       "    }\n",
       "\n",
       "    .dataframe thead th {\n",
       "        text-align: right;\n",
       "    }\n",
       "</style>\n",
       "<table border=\"1\" class=\"dataframe\">\n",
       "  <thead>\n",
       "    <tr style=\"text-align: right;\">\n",
       "      <th></th>\n",
       "      <th>English</th>\n",
       "      <th>Hindi</th>\n",
       "    </tr>\n",
       "  </thead>\n",
       "  <tbody>\n",
       "    <tr>\n",
       "      <th>1000</th>\n",
       "      <td>US Secretary of State, Mike Pompeo</td>\n",
       "      <td>माइक पोंपियो , अमेरिकी विदेश मंत्री&amp;nbsp</td>\n",
       "    </tr>\n",
       "    <tr>\n",
       "      <th>1001</th>\n",
       "      <td>Sridevi was with her husband Boney Kapoor and ...</td>\n",
       "      <td>श्रीदेवी की मौत के वक्त उनके पति बोनी कपूर और ...</td>\n",
       "    </tr>\n",
       "    <tr>\n",
       "      <th>1002</th>\n",
       "      <td>Referring to an official communication receive...</td>\n",
       "      <td>केंद्रीय राज्य मंत्री, पर्यटन और संस्कृति प्रह...</td>\n",
       "    </tr>\n",
       "    <tr>\n",
       "      <th>1003</th>\n",
       "      <td>The former CM said:</td>\n",
       "      <td>जिनमें पूर्व मुख्यमंत्री चौ.</td>\n",
       "    </tr>\n",
       "    <tr>\n",
       "      <th>1004</th>\n",
       "      <td>Karimpur's seat fell vacant after sitting TMC ...</td>\n",
       "      <td>महुआ मोइत्रा के कृष्णानगर लोकसभा सीट से चुनाव ...</td>\n",
       "    </tr>\n",
       "  </tbody>\n",
       "</table>\n",
       "</div>"
      ],
      "text/plain": [
       "                                                English  \\\n",
       "1000                 US Secretary of State, Mike Pompeo   \n",
       "1001  Sridevi was with her husband Boney Kapoor and ...   \n",
       "1002  Referring to an official communication receive...   \n",
       "1003                                The former CM said:   \n",
       "1004  Karimpur's seat fell vacant after sitting TMC ...   \n",
       "\n",
       "                                                  Hindi  \n",
       "1000           माइक पोंपियो , अमेरिकी विदेश मंत्री&nbsp  \n",
       "1001  श्रीदेवी की मौत के वक्त उनके पति बोनी कपूर और ...  \n",
       "1002  केंद्रीय राज्य मंत्री, पर्यटन और संस्कृति प्रह...  \n",
       "1003                       जिनमें पूर्व मुख्यमंत्री चौ.  \n",
       "1004  महुआ मोइत्रा के कृष्णानगर लोकसभा सीट से चुनाव ...  "
      ]
     },
     "execution_count": 16,
     "metadata": {},
     "output_type": "execute_result"
    }
   ],
   "source": [
    "data_1k_2k.head()"
   ]
  },
  {
   "cell_type": "code",
   "execution_count": 17,
   "id": "c9ff16f0-807a-42e9-9f80-cdb90072c200",
   "metadata": {},
   "outputs": [],
   "source": [
    "# Batch processing\n",
    "batch_size = 32  # Experiment with different batch sizes\n",
    "translations_1k_2k = []\n",
    "\n",
    "for i in range(0, len(data_1k), batch_size):\n",
    "    batch = data_1k_2k['English'][i:i + batch_size].tolist()\n",
    "\n",
    "    model_inputs = tokenizer(batch, return_tensors=\"pt\", padding=True, truncation=True)\n",
    "\n",
    "    generated_tokens = model.generate(\n",
    "        **model_inputs,\n",
    "        forced_bos_token_id=tokenizer.lang_code_to_id[\"hi_IN\"]\n",
    "    )\n",
    "\n",
    "    batch_translations = tokenizer.batch_decode(generated_tokens, skip_special_tokens=True)\n",
    "    translations_1k_2k.extend(batch_translations)"
   ]
  },
  {
   "cell_type": "code",
   "execution_count": 18,
   "id": "13c989be-62dd-47d9-b138-0eda64a9095c",
   "metadata": {},
   "outputs": [],
   "source": [
    "data_1k_2k['Hindi_Translation'] = translations_1k_2k"
   ]
  },
  {
   "cell_type": "code",
   "execution_count": 19,
   "id": "8251fe7b-4b81-46d1-9bd1-d5e00002a845",
   "metadata": {},
   "outputs": [
    {
     "data": {
      "text/html": [
       "<div>\n",
       "<style scoped>\n",
       "    .dataframe tbody tr th:only-of-type {\n",
       "        vertical-align: middle;\n",
       "    }\n",
       "\n",
       "    .dataframe tbody tr th {\n",
       "        vertical-align: top;\n",
       "    }\n",
       "\n",
       "    .dataframe thead th {\n",
       "        text-align: right;\n",
       "    }\n",
       "</style>\n",
       "<table border=\"1\" class=\"dataframe\">\n",
       "  <thead>\n",
       "    <tr style=\"text-align: right;\">\n",
       "      <th></th>\n",
       "      <th>English</th>\n",
       "      <th>Hindi</th>\n",
       "      <th>Hindi_Translation</th>\n",
       "    </tr>\n",
       "  </thead>\n",
       "  <tbody>\n",
       "    <tr>\n",
       "      <th>1000</th>\n",
       "      <td>US Secretary of State, Mike Pompeo</td>\n",
       "      <td>माइक पोंपियो , अमेरिकी विदेश मंत्री&amp;nbsp</td>\n",
       "      <td>अमरीकी विदेश मंत्री माइक पॉम्पियो</td>\n",
       "    </tr>\n",
       "    <tr>\n",
       "      <th>1001</th>\n",
       "      <td>Sridevi was with her husband Boney Kapoor and ...</td>\n",
       "      <td>श्रीदेवी की मौत के वक्त उनके पति बोनी कपूर और ...</td>\n",
       "      <td>श्रीदेवी मृत्यु के समय अपने पति बोनी कपूर और ब...</td>\n",
       "    </tr>\n",
       "    <tr>\n",
       "      <th>1002</th>\n",
       "      <td>Referring to an official communication receive...</td>\n",
       "      <td>केंद्रीय राज्य मंत्री, पर्यटन और संस्कृति प्रह...</td>\n",
       "      <td>केंद्रीय राज्य, पर्यटन और संस्कृति मंत्री, प्र...</td>\n",
       "    </tr>\n",
       "    <tr>\n",
       "      <th>1003</th>\n",
       "      <td>The former CM said:</td>\n",
       "      <td>जिनमें पूर्व मुख्यमंत्री चौ.</td>\n",
       "      <td>पूर्व प्रधानमंत्री ने कहा थाः</td>\n",
       "    </tr>\n",
       "    <tr>\n",
       "      <th>1004</th>\n",
       "      <td>Karimpur's seat fell vacant after sitting TMC ...</td>\n",
       "      <td>महुआ मोइत्रा के कृष्णानगर लोकसभा सीट से चुनाव ...</td>\n",
       "      <td>करीमपुर का स्थान टीएमसी एमएलए माहू मोइत्रा के ...</td>\n",
       "    </tr>\n",
       "  </tbody>\n",
       "</table>\n",
       "</div>"
      ],
      "text/plain": [
       "                                                English  \\\n",
       "1000                 US Secretary of State, Mike Pompeo   \n",
       "1001  Sridevi was with her husband Boney Kapoor and ...   \n",
       "1002  Referring to an official communication receive...   \n",
       "1003                                The former CM said:   \n",
       "1004  Karimpur's seat fell vacant after sitting TMC ...   \n",
       "\n",
       "                                                  Hindi  \\\n",
       "1000           माइक पोंपियो , अमेरिकी विदेश मंत्री&nbsp   \n",
       "1001  श्रीदेवी की मौत के वक्त उनके पति बोनी कपूर और ...   \n",
       "1002  केंद्रीय राज्य मंत्री, पर्यटन और संस्कृति प्रह...   \n",
       "1003                       जिनमें पूर्व मुख्यमंत्री चौ.   \n",
       "1004  महुआ मोइत्रा के कृष्णानगर लोकसभा सीट से चुनाव ...   \n",
       "\n",
       "                                      Hindi_Translation  \n",
       "1000                  अमरीकी विदेश मंत्री माइक पॉम्पियो  \n",
       "1001  श्रीदेवी मृत्यु के समय अपने पति बोनी कपूर और ब...  \n",
       "1002  केंद्रीय राज्य, पर्यटन और संस्कृति मंत्री, प्र...  \n",
       "1003                      पूर्व प्रधानमंत्री ने कहा थाः  \n",
       "1004  करीमपुर का स्थान टीएमसी एमएलए माहू मोइत्रा के ...  "
      ]
     },
     "execution_count": 19,
     "metadata": {},
     "output_type": "execute_result"
    }
   ],
   "source": [
    "data_1k_2k.head()"
   ]
  },
  {
   "cell_type": "code",
   "execution_count": 20,
   "id": "7dd6518e-e143-485c-9003-254e0a5b771f",
   "metadata": {},
   "outputs": [
    {
     "name": "stdout",
     "output_type": "stream",
     "text": [
      "BLEU Score: 18.64978249391304\n"
     ]
    }
   ],
   "source": [
    "references1 = data_1k_2k['Hindi'].tolist()\n",
    "hypotheses1 = data_1k_2k['Hindi_Translation'].tolist()\n",
    "\n",
    "# Compute BLEU score\n",
    "bleu1 = corpus_bleu(hypotheses1, [references1])\n",
    "print(f'BLEU Score: {bleu1.score}')"
   ]
  },
  {
   "cell_type": "code",
   "execution_count": 21,
   "id": "98dcede0-befd-40bd-af72-9645686bf456",
   "metadata": {},
   "outputs": [
    {
     "data": {
      "text/plain": [
       "[\"Karimpur's seat fell vacant after sitting TMC MLA Mahua Moitra won the parliamentary polls from Krishnnanagar Lok Sabha seat.\",\n",
       " 'महुआ मोइत्रा के कृष्णानगर लोकसभा सीट से चुनाव जीतने के बाद करीमपुर सीट खाली हो गई थी।',\n",
       " 'करीमपुर का स्थान टीएमसी एमएलए माहू मोइत्रा के बैठने के बाद रिक्त हो गया और कृष्णानगर लोक सभा के स्थान से संसदीय चुनाव जीत गया।']"
      ]
     },
     "execution_count": 21,
     "metadata": {},
     "output_type": "execute_result"
    }
   ],
   "source": [
    "data_1k_2k.iloc[4].tolist()"
   ]
  },
  {
   "cell_type": "code",
   "execution_count": 22,
   "id": "8e7bd8e8-4c1c-4467-a901-f9357d97d72d",
   "metadata": {},
   "outputs": [
    {
     "data": {
      "text/plain": [
       "[\"However, Paes, who was partnering Australia's Paul Hanley, could only go as far as the quarterfinals where they lost to Bhupathi and Knowles\",\n",
       " 'आस्ट्रेलिया के पाल हेनली के साथ जोड़ी बनाने वाले पेस मियामी में क्वार्टरफाइनल तक ही पहुंच सके क्योंकि इस दौर में उन्हें भूपति और नोल्स ने हराया था।',\n",
       " 'हालांकि पेस, जो ऑस्ट्रेलिया के पॉल हनले के साथ भागीदारी कर रहे थे, केवल क्वार्टफाइनल तक पहुँच सकते थे जहां वे भुपाती और नोल्स से हार गए']"
      ]
     },
     "execution_count": 22,
     "metadata": {},
     "output_type": "execute_result"
    }
   ],
   "source": [
    "data_1k.iloc[0].tolist()"
   ]
  },
  {
   "cell_type": "code",
   "execution_count": null,
   "id": "88537f5c-6f21-46b2-babc-3490f5cf0468",
   "metadata": {},
   "outputs": [],
   "source": []
  }
 ],
 "metadata": {
  "kernelspec": {
   "display_name": "Python 3 (ipykernel)",
   "language": "python",
   "name": "python3"
  },
  "language_info": {
   "codemirror_mode": {
    "name": "ipython",
    "version": 3
   },
   "file_extension": ".py",
   "mimetype": "text/x-python",
   "name": "python",
   "nbconvert_exporter": "python",
   "pygments_lexer": "ipython3",
   "version": "3.8.18"
  }
 },
 "nbformat": 4,
 "nbformat_minor": 5
}
